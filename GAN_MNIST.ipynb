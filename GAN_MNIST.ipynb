{
  "nbformat": 4,
  "nbformat_minor": 0,
  "metadata": {
    "colab": {
      "provenance": [],
      "gpuType": "T4"
    },
    "kernelspec": {
      "name": "python3",
      "display_name": "Python 3"
    },
    "language_info": {
      "name": "python"
    },
    "accelerator": "GPU"
  },
  "cells": [
    {
      "cell_type": "code",
      "execution_count": null,
      "metadata": {
        "id": "MO26Jw6Mykdj"
      },
      "outputs": [],
      "source": [
        "import torch\n",
        "from torch import nn\n",
        "import math\n",
        "import matplotlib.pyplot as plt\n",
        "import torchvision\n",
        "import torchvision.transforms as transforms\n",
        "\n",
        "torch.manual_seed(45)"
      ]
    },
    {
      "cell_type": "code",
      "source": [
        "device = \"\"\n",
        "if torch.cuda.is_available():\n",
        "    device = torch.device(\"cuda\")\n",
        "else:\n",
        "    device = torch.device(\"cpu\")\n",
        "\n",
        "print(\"Device: \", device)"
      ],
      "metadata": {
        "id": "HUpProqL6KbJ"
      },
      "execution_count": null,
      "outputs": []
    },
    {
      "cell_type": "markdown",
      "source": [
        "1. transforms.ToTensor() = Convert the image to PyTorch tensors\n",
        "\n",
        "2. transforms.Normalize((0.5,), (0.5,)) = Normalize the tensors so that all the values are between -1 and 1"
      ],
      "metadata": {
        "id": "w87ge_wOZG9H"
      }
    },
    {
      "cell_type": "code",
      "source": [
        "transform = transforms.Compose([transforms.ToTensor(), transforms.Normalize((0.5,), (0.5,))])"
      ],
      "metadata": {
        "id": "U4peaso7YnOV"
      },
      "execution_count": null,
      "outputs": []
    },
    {
      "cell_type": "code",
      "source": [
        "train_set = torchvision.datasets.MNIST(\n",
        "    root=\".\", train=True, download=True, transform=transform\n",
        ")"
      ],
      "metadata": {
        "id": "QS8J6XREYmHT"
      },
      "execution_count": null,
      "outputs": []
    },
    {
      "cell_type": "code",
      "source": [
        "batch_size = 32\n",
        "train_loader = torch.utils.data.DataLoader(\n",
        "    train_set, batch_size=batch_size, shuffle=True\n",
        ")"
      ],
      "metadata": {
        "id": "yihRXTArgESk"
      },
      "execution_count": null,
      "outputs": []
    },
    {
      "cell_type": "code",
      "source": [
        "data, mnist_labels = next(iter(train_loader))\n",
        "for i in range(16):\n",
        "    ax = plt.subplot(4, 4, i + 1)\n",
        "    plt.imshow(data[i].reshape(28, 28), cmap=\"gray_r\")\n",
        "    plt.xticks([])\n",
        "    plt.yticks([])"
      ],
      "metadata": {
        "id": "6UT15PZEgIe1"
      },
      "execution_count": null,
      "outputs": []
    },
    {
      "cell_type": "code",
      "source": [
        "#Discriminator model\n",
        "\n",
        "class Discriminator(nn.Module):\n",
        "\n",
        "  def __init__(self):\n",
        "    super().__init__()\n",
        "    self.model = nn.Sequential(\n",
        "            nn.Linear(784, 1024),\n",
        "            nn.ReLU(),\n",
        "            nn.Dropout(0.3),\n",
        "            nn.Linear(1024, 512),\n",
        "            nn.ReLU(),\n",
        "            nn.Dropout(0.3),\n",
        "            nn.Linear(512, 256),\n",
        "            nn.ReLU(),\n",
        "            nn.Dropout(0.3),\n",
        "            nn.Linear(256, 1),\n",
        "            nn.Sigmoid()\n",
        "    )\n",
        "\n",
        "  def forward(self, x):\n",
        "    x = x.view(x.size(0), 784)\n",
        "    output = self.model(x)\n",
        "    return output"
      ],
      "metadata": {
        "id": "qrUwv3RcgV8Y"
      },
      "execution_count": null,
      "outputs": []
    },
    {
      "cell_type": "code",
      "source": [
        "#Generator Model\n",
        "\n",
        "class Generator(nn.Module):\n",
        "  def __init__(self):\n",
        "    super().__init__()\n",
        "    self.model = nn.Sequential(\n",
        "        nn.Linear(100, 256),\n",
        "        nn.ReLU(),\n",
        "        nn.Linear(256, 512),\n",
        "        nn.ReLU(),\n",
        "        nn.Linear(512, 1024),\n",
        "        nn.ReLU(),\n",
        "        nn.Linear(1024, 784),\n",
        "        nn.Tanh()\n",
        "    )\n",
        "\n",
        "  def forward(self, x):\n",
        "    output = self.model(x)\n",
        "    output = output.view(x.size(0), 1, 28, 28)\n",
        "    return output\n"
      ],
      "metadata": {
        "id": "xoMxkT1-5txl"
      },
      "execution_count": null,
      "outputs": []
    },
    {
      "cell_type": "code",
      "source": [
        "def train(generator, discriminator, train_loader, n_epochs, batch_size, loss_function, dis_optim, gen_optim):\n",
        "  for epoch in range(n_epochs):\n",
        "    for n, (real_data, mnist_labels) in enumerate(train_loader):\n",
        "      # MNIST Data\n",
        "      real_data = real_data.to(device)\n",
        "      real_data_labels = torch.ones((batch_size, 1)).to(device) # All real data labeled 1\n",
        "\n",
        "      # Generator generated Data\n",
        "      noise = torch.randn((batch_size, 100)).to(device)\n",
        "      gen_data = generator(noise)\n",
        "      gen_data_labels = torch.zeros((batch_size, 1)).to(device) # All generated data labeled 0\n",
        "\n",
        "      # Concatinating all the data and labels\n",
        "      combined_data = torch.cat((real_data, gen_data))\n",
        "      combined_labels = torch.cat((real_data_labels, gen_data_labels))\n",
        "\n",
        "      # Discriminator Training\n",
        "      discriminator.zero_grad() # clear previous gradients\n",
        "      dis_out = discriminator(combined_data) # discriminator output\n",
        "      dis_loss = loss_function(dis_out, combined_labels) # Calculate the loss\n",
        "      dis_loss.backward() # Backpropogation\n",
        "      dis_optim.step() # change lr accordingly\n",
        "\n",
        "      # Generator Training\n",
        "      new_gen_data = torch.randn((batch_size, 100)).to(device) # Noise to create new generator data\n",
        "\n",
        "      generator.zero_grad() # clear previous gradients\n",
        "      gen_out = generator(new_gen_data) # newly generated data\n",
        "      dis_out = discriminator(gen_out) # discriminator output\n",
        "      gen_loss = loss_function(dis_out, real_data_labels) #\n",
        "      gen_loss.backward() # Backpropogation\n",
        "      gen_optim.step() # change lr accordingly\n",
        "\n",
        "    if epoch%20 == 0:\n",
        "      print(f\"Epoch: {epoch} Loss D.: {dis_loss}, Loss G.: {gen_loss}\")"
      ],
      "metadata": {
        "id": "gIVP0ajTqovf"
      },
      "execution_count": null,
      "outputs": []
    },
    {
      "cell_type": "code",
      "source": [
        "discriminator = Discriminator().to(device)\n",
        "generator = Generator().to(device)"
      ],
      "metadata": {
        "id": "OTsbCUl-of0o"
      },
      "execution_count": null,
      "outputs": []
    },
    {
      "cell_type": "code",
      "source": [
        "lr = 0.0001\n",
        "n_epochs =201\n",
        "loss_function = nn.BCELoss()\n",
        "\n",
        "dis_optim = torch.optim.Adam(discriminator.parameters(), lr=lr)\n",
        "gen_optim = torch.optim.Adam(generator.parameters(), lr=lr)"
      ],
      "metadata": {
        "id": "9GtKbHjNzOfq"
      },
      "execution_count": null,
      "outputs": []
    },
    {
      "cell_type": "code",
      "source": [
        "train(generator, discriminator, train_loader, n_epochs, batch_size, loss_function, dis_optim, gen_optim)"
      ],
      "metadata": {
        "id": "yIyEhkLMzO92"
      },
      "execution_count": null,
      "outputs": []
    },
    {
      "cell_type": "code",
      "source": [
        "noise = torch.randn(batch_size, 100).to(device=device)\n",
        "gen_data = generator(noise)\n",
        "\n",
        "gen_data = gen_data.cpu().detach()\n",
        "for i in range(16):\n",
        "    ax = plt.subplot(4, 4, i + 1)\n",
        "    plt.imshow(gen_data[i].reshape(28, 28), cmap=\"gray_r\")\n",
        "    plt.xticks([])\n",
        "    plt.yticks([])"
      ],
      "metadata": {
        "id": "cNRw3dkszhL5"
      },
      "execution_count": null,
      "outputs": []
    }
  ]
}